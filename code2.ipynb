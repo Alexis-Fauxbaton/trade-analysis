{
 "cells": [
  {
   "cell_type": "code",
   "execution_count": 1,
   "metadata": {},
   "outputs": [],
   "source": [
    "import numpy as np\n",
    "import pandas as pd\n",
    "import MetaTrader5 as mt5\n",
    "from datetime import datetime"
   ]
  },
  {
   "cell_type": "code",
   "execution_count": 2,
   "metadata": {},
   "outputs": [
    {
     "data": {
      "text/plain": [
       "False"
      ]
     },
     "execution_count": 2,
     "metadata": {},
     "output_type": "execute_result"
    }
   ],
   "source": [
    "mt5.initialize()\n",
    "\n",
    "mt5.login(login=52603153, password='@322HwQd', server='VantageInternational-Live 6')"
   ]
  },
  {
   "cell_type": "code",
   "execution_count": null,
   "metadata": {},
   "outputs": [],
   "source": [
    "mt5.last_error()"
   ]
  },
  {
   "cell_type": "code",
   "execution_count": 3,
   "metadata": {},
   "outputs": [
    {
     "data": {
      "text/plain": [
       "datetime.datetime(2025, 1, 2, 19, 18, 8, 714707)"
      ]
     },
     "execution_count": 3,
     "metadata": {},
     "output_type": "execute_result"
    }
   ],
   "source": [
    "datetime.now()"
   ]
  },
  {
   "cell_type": "code",
   "execution_count": 18,
   "metadata": {},
   "outputs": [
    {
     "name": "stdout",
     "output_type": "stream",
     "text": [
      "(1, 'Success')\n"
     ]
    }
   ],
   "source": [
    "trades = mt5.history_deals_get(datetime(2024, 12, 15), datetime(2024, 12, 29))\n",
    "# trades = mt5.history_orders_get(date_from='2024.12.01 00:00:00', date_to='2024.12.31 23:59:59')\n",
    "print(mt5.last_error())"
   ]
  },
  {
   "cell_type": "code",
   "execution_count": 19,
   "metadata": {},
   "outputs": [
    {
     "data": {
      "text/plain": [
       "(TradeDeal(ticket=41764919, order=41777725, time=1734515348, time_msc=1734515348790, type=1, entry=0, magic=0, position_id=41777725, reason=1, volume=0.01, price=2644.28, commission=-0.03, swap=0.0, profit=0.0, fee=0.0, symbol='XAUUSD+', comment='', external_id='795645126'),\n",
       " TradeDeal(ticket=41773912, order=41786997, time=1734516587, time_msc=1734516587524, type=1, entry=0, magic=0, position_id=41786997, reason=1, volume=0.01, price=2642.48, commission=-0.03, swap=0.0, profit=0.0, fee=0.0, symbol='XAUUSD+', comment='', external_id='795676857'),\n",
       " TradeDeal(ticket=41776205, order=41789312, time=1734517007, time_msc=1734517007116, type=0, entry=1, magic=0, position_id=41786997, reason=4, volume=0.01, price=2644.33, commission=-0.03, swap=0.0, profit=-1.85, fee=0.0, symbol='XAUUSD+', comment='[sl 2644.32]', external_id='795684288'),\n",
       " TradeDeal(ticket=41778567, order=41791657, time=1734517236, time_msc=1734517236190, type=0, entry=1, magic=0, position_id=41777725, reason=4, volume=0.01, price=2645.9, commission=-0.03, swap=0.0, profit=-1.62, fee=0.0, symbol='XAUUSD+', comment='[sl 2645.96]', external_id='795691109'),\n",
       " TradeDeal(ticket=41795639, order=41808759, time=1734519520, time_msc=1734519520837, type=0, entry=0, magic=0, position_id=41808759, reason=1, volume=0.15, price=1.0494, commission=-0.45, swap=0.0, profit=0.0, fee=0.0, symbol='EURUSD+', comment='', external_id='795739185'),\n",
       " TradeDeal(ticket=41795877, order=41809019, time=1734519575, time_msc=1734519575338, type=0, entry=0, magic=0, position_id=41809019, reason=1, volume=0.15, price=1.26882, commission=-0.45, swap=0.0, profit=0.0, fee=0.0, symbol='GBPUSD+', comment='', external_id='795739790'),\n",
       " TradeDeal(ticket=41797161, order=41810393, time=1734519780, time_msc=1734519780562, type=1, entry=1, magic=0, position_id=41809019, reason=5, volume=0.15, price=1.26883, commission=-0.45, swap=0.0, profit=0.15, fee=0.0, symbol='GBPUSD+', comment='[tp 1.26883]', external_id='795744271'),\n",
       " TradeDeal(ticket=41798530, order=41811757, time=1734520051, time_msc=1734520051662, type=1, entry=1, magic=0, position_id=41808759, reason=1, volume=0.15, price=1.04918, commission=-0.45, swap=0.0, profit=-3.3, fee=0.0, symbol='EURUSD+', comment='', external_id='795746724'))"
      ]
     },
     "execution_count": 19,
     "metadata": {},
     "output_type": "execute_result"
    }
   ],
   "source": [
    "trades"
   ]
  },
  {
   "cell_type": "code",
   "execution_count": 20,
   "metadata": {},
   "outputs": [
    {
     "data": {
      "text/html": [
       "<div>\n",
       "<style scoped>\n",
       "    .dataframe tbody tr th:only-of-type {\n",
       "        vertical-align: middle;\n",
       "    }\n",
       "\n",
       "    .dataframe tbody tr th {\n",
       "        vertical-align: top;\n",
       "    }\n",
       "\n",
       "    .dataframe thead th {\n",
       "        text-align: right;\n",
       "    }\n",
       "</style>\n",
       "<table border=\"1\" class=\"dataframe\">\n",
       "  <thead>\n",
       "    <tr style=\"text-align: right;\">\n",
       "      <th></th>\n",
       "      <th>ticket</th>\n",
       "      <th>order</th>\n",
       "      <th>time</th>\n",
       "      <th>time_msc</th>\n",
       "      <th>type</th>\n",
       "      <th>entry</th>\n",
       "      <th>magic</th>\n",
       "      <th>position_id</th>\n",
       "      <th>reason</th>\n",
       "      <th>volume</th>\n",
       "      <th>price</th>\n",
       "      <th>commission</th>\n",
       "      <th>swap</th>\n",
       "      <th>profit</th>\n",
       "      <th>fee</th>\n",
       "      <th>symbol</th>\n",
       "      <th>comment</th>\n",
       "      <th>external_id</th>\n",
       "    </tr>\n",
       "  </thead>\n",
       "  <tbody>\n",
       "    <tr>\n",
       "      <th>0</th>\n",
       "      <td>41764919</td>\n",
       "      <td>41777725</td>\n",
       "      <td>1734515348</td>\n",
       "      <td>1734515348790</td>\n",
       "      <td>1</td>\n",
       "      <td>0</td>\n",
       "      <td>0</td>\n",
       "      <td>41777725</td>\n",
       "      <td>1</td>\n",
       "      <td>0.01</td>\n",
       "      <td>2644.28000</td>\n",
       "      <td>-0.03</td>\n",
       "      <td>0.0</td>\n",
       "      <td>0.00</td>\n",
       "      <td>0.0</td>\n",
       "      <td>XAUUSD+</td>\n",
       "      <td></td>\n",
       "      <td>795645126</td>\n",
       "    </tr>\n",
       "    <tr>\n",
       "      <th>1</th>\n",
       "      <td>41773912</td>\n",
       "      <td>41786997</td>\n",
       "      <td>1734516587</td>\n",
       "      <td>1734516587524</td>\n",
       "      <td>1</td>\n",
       "      <td>0</td>\n",
       "      <td>0</td>\n",
       "      <td>41786997</td>\n",
       "      <td>1</td>\n",
       "      <td>0.01</td>\n",
       "      <td>2642.48000</td>\n",
       "      <td>-0.03</td>\n",
       "      <td>0.0</td>\n",
       "      <td>0.00</td>\n",
       "      <td>0.0</td>\n",
       "      <td>XAUUSD+</td>\n",
       "      <td></td>\n",
       "      <td>795676857</td>\n",
       "    </tr>\n",
       "    <tr>\n",
       "      <th>2</th>\n",
       "      <td>41776205</td>\n",
       "      <td>41789312</td>\n",
       "      <td>1734517007</td>\n",
       "      <td>1734517007116</td>\n",
       "      <td>0</td>\n",
       "      <td>1</td>\n",
       "      <td>0</td>\n",
       "      <td>41786997</td>\n",
       "      <td>4</td>\n",
       "      <td>0.01</td>\n",
       "      <td>2644.33000</td>\n",
       "      <td>-0.03</td>\n",
       "      <td>0.0</td>\n",
       "      <td>-1.85</td>\n",
       "      <td>0.0</td>\n",
       "      <td>XAUUSD+</td>\n",
       "      <td>[sl 2644.32]</td>\n",
       "      <td>795684288</td>\n",
       "    </tr>\n",
       "    <tr>\n",
       "      <th>3</th>\n",
       "      <td>41778567</td>\n",
       "      <td>41791657</td>\n",
       "      <td>1734517236</td>\n",
       "      <td>1734517236190</td>\n",
       "      <td>0</td>\n",
       "      <td>1</td>\n",
       "      <td>0</td>\n",
       "      <td>41777725</td>\n",
       "      <td>4</td>\n",
       "      <td>0.01</td>\n",
       "      <td>2645.90000</td>\n",
       "      <td>-0.03</td>\n",
       "      <td>0.0</td>\n",
       "      <td>-1.62</td>\n",
       "      <td>0.0</td>\n",
       "      <td>XAUUSD+</td>\n",
       "      <td>[sl 2645.96]</td>\n",
       "      <td>795691109</td>\n",
       "    </tr>\n",
       "    <tr>\n",
       "      <th>4</th>\n",
       "      <td>41795639</td>\n",
       "      <td>41808759</td>\n",
       "      <td>1734519520</td>\n",
       "      <td>1734519520837</td>\n",
       "      <td>0</td>\n",
       "      <td>0</td>\n",
       "      <td>0</td>\n",
       "      <td>41808759</td>\n",
       "      <td>1</td>\n",
       "      <td>0.15</td>\n",
       "      <td>1.04940</td>\n",
       "      <td>-0.45</td>\n",
       "      <td>0.0</td>\n",
       "      <td>0.00</td>\n",
       "      <td>0.0</td>\n",
       "      <td>EURUSD+</td>\n",
       "      <td></td>\n",
       "      <td>795739185</td>\n",
       "    </tr>\n",
       "    <tr>\n",
       "      <th>5</th>\n",
       "      <td>41795877</td>\n",
       "      <td>41809019</td>\n",
       "      <td>1734519575</td>\n",
       "      <td>1734519575338</td>\n",
       "      <td>0</td>\n",
       "      <td>0</td>\n",
       "      <td>0</td>\n",
       "      <td>41809019</td>\n",
       "      <td>1</td>\n",
       "      <td>0.15</td>\n",
       "      <td>1.26882</td>\n",
       "      <td>-0.45</td>\n",
       "      <td>0.0</td>\n",
       "      <td>0.00</td>\n",
       "      <td>0.0</td>\n",
       "      <td>GBPUSD+</td>\n",
       "      <td></td>\n",
       "      <td>795739790</td>\n",
       "    </tr>\n",
       "    <tr>\n",
       "      <th>6</th>\n",
       "      <td>41797161</td>\n",
       "      <td>41810393</td>\n",
       "      <td>1734519780</td>\n",
       "      <td>1734519780562</td>\n",
       "      <td>1</td>\n",
       "      <td>1</td>\n",
       "      <td>0</td>\n",
       "      <td>41809019</td>\n",
       "      <td>5</td>\n",
       "      <td>0.15</td>\n",
       "      <td>1.26883</td>\n",
       "      <td>-0.45</td>\n",
       "      <td>0.0</td>\n",
       "      <td>0.15</td>\n",
       "      <td>0.0</td>\n",
       "      <td>GBPUSD+</td>\n",
       "      <td>[tp 1.26883]</td>\n",
       "      <td>795744271</td>\n",
       "    </tr>\n",
       "    <tr>\n",
       "      <th>7</th>\n",
       "      <td>41798530</td>\n",
       "      <td>41811757</td>\n",
       "      <td>1734520051</td>\n",
       "      <td>1734520051662</td>\n",
       "      <td>1</td>\n",
       "      <td>1</td>\n",
       "      <td>0</td>\n",
       "      <td>41808759</td>\n",
       "      <td>1</td>\n",
       "      <td>0.15</td>\n",
       "      <td>1.04918</td>\n",
       "      <td>-0.45</td>\n",
       "      <td>0.0</td>\n",
       "      <td>-3.30</td>\n",
       "      <td>0.0</td>\n",
       "      <td>EURUSD+</td>\n",
       "      <td></td>\n",
       "      <td>795746724</td>\n",
       "    </tr>\n",
       "  </tbody>\n",
       "</table>\n",
       "</div>"
      ],
      "text/plain": [
       "     ticket     order        time       time_msc  type  entry  magic  \\\n",
       "0  41764919  41777725  1734515348  1734515348790     1      0      0   \n",
       "1  41773912  41786997  1734516587  1734516587524     1      0      0   \n",
       "2  41776205  41789312  1734517007  1734517007116     0      1      0   \n",
       "3  41778567  41791657  1734517236  1734517236190     0      1      0   \n",
       "4  41795639  41808759  1734519520  1734519520837     0      0      0   \n",
       "5  41795877  41809019  1734519575  1734519575338     0      0      0   \n",
       "6  41797161  41810393  1734519780  1734519780562     1      1      0   \n",
       "7  41798530  41811757  1734520051  1734520051662     1      1      0   \n",
       "\n",
       "   position_id  reason  volume       price  commission  swap  profit  fee  \\\n",
       "0     41777725       1    0.01  2644.28000       -0.03   0.0    0.00  0.0   \n",
       "1     41786997       1    0.01  2642.48000       -0.03   0.0    0.00  0.0   \n",
       "2     41786997       4    0.01  2644.33000       -0.03   0.0   -1.85  0.0   \n",
       "3     41777725       4    0.01  2645.90000       -0.03   0.0   -1.62  0.0   \n",
       "4     41808759       1    0.15     1.04940       -0.45   0.0    0.00  0.0   \n",
       "5     41809019       1    0.15     1.26882       -0.45   0.0    0.00  0.0   \n",
       "6     41809019       5    0.15     1.26883       -0.45   0.0    0.15  0.0   \n",
       "7     41808759       1    0.15     1.04918       -0.45   0.0   -3.30  0.0   \n",
       "\n",
       "    symbol       comment external_id  \n",
       "0  XAUUSD+                 795645126  \n",
       "1  XAUUSD+                 795676857  \n",
       "2  XAUUSD+  [sl 2644.32]   795684288  \n",
       "3  XAUUSD+  [sl 2645.96]   795691109  \n",
       "4  EURUSD+                 795739185  \n",
       "5  GBPUSD+                 795739790  \n",
       "6  GBPUSD+  [tp 1.26883]   795744271  \n",
       "7  EURUSD+                 795746724  "
      ]
     },
     "execution_count": 20,
     "metadata": {},
     "output_type": "execute_result"
    }
   ],
   "source": [
    "pd.DataFrame(list(trades), columns=trades[0]._asdict().keys())"
   ]
  },
  {
   "cell_type": "code",
   "execution_count": 7,
   "metadata": {},
   "outputs": [
    {
     "data": {
      "text/plain": [
       "(TradeOrder(ticket=24200088, time_setup=1730889273, time_setup_msc=1730889273011, time_done=1730889273, time_done_msc=1730889273148, time_expiration=0, type=0, type_time=0, type_filling=1, state=4, magic=0, position_id=24200088, position_by_id=0, reason=1, volume_initial=0.1, volume_current=0.0, price_open=0.0, sl=0.0, tp=0.0, price_current=2727.48, price_stoplimit=0.0, symbol='XAUUSD+', comment='', external_id='24200088-O'),\n",
       " TradeOrder(ticket=24201732, time_setup=1730889387, time_setup_msc=1730889387532, time_done=1730889387, time_done_msc=1730889387653, time_expiration=0, type=1, type_time=0, type_filling=1, state=4, magic=0, position_id=24200088, position_by_id=0, reason=4, volume_initial=0.1, volume_current=0.0, price_open=2728.83, sl=0.0, tp=0.0, price_current=2728.83, price_stoplimit=0.0, symbol='XAUUSD+', comment='[sl 2728.83]', external_id='24201732-O'))"
      ]
     },
     "execution_count": 7,
     "metadata": {},
     "output_type": "execute_result"
    }
   ],
   "source": [
    "mt5.history_orders_get(position=24200088)"
   ]
  },
  {
   "cell_type": "code",
   "execution_count": 8,
   "metadata": {},
   "outputs": [
    {
     "name": "stdout",
     "output_type": "stream",
     "text": [
      "()\n",
      "(1, 'Success')\n"
     ]
    }
   ],
   "source": [
    "print(mt5.orders_get())\n",
    "print(mt5.last_error())"
   ]
  },
  {
   "cell_type": "code",
   "execution_count": 9,
   "metadata": {},
   "outputs": [
    {
     "name": "stdout",
     "output_type": "stream",
     "text": [
      "(1, 'Success')\n"
     ]
    }
   ],
   "source": [
    "mt5.positions_get()\n",
    "print(mt5.last_error())"
   ]
  },
  {
   "cell_type": "code",
   "execution_count": 10,
   "metadata": {},
   "outputs": [
    {
     "name": "stdout",
     "output_type": "stream",
     "text": [
      "None\n",
      "(-2, 'Invalid arguments')\n"
     ]
    }
   ],
   "source": [
    "print(mt5.history_orders_total())\n",
    "print(mt5.last_error())"
   ]
  },
  {
   "cell_type": "code",
   "execution_count": 21,
   "metadata": {},
   "outputs": [
    {
     "data": {
      "text/plain": [
       "True"
      ]
     },
     "execution_count": 21,
     "metadata": {},
     "output_type": "execute_result"
    }
   ],
   "source": [
    "mt5.shutdown()"
   ]
  }
 ],
 "metadata": {
  "kernelspec": {
   "display_name": "trading_analysis",
   "language": "python",
   "name": "python3"
  },
  "language_info": {
   "codemirror_mode": {
    "name": "ipython",
    "version": 3
   },
   "file_extension": ".py",
   "mimetype": "text/x-python",
   "name": "python",
   "nbconvert_exporter": "python",
   "pygments_lexer": "ipython3",
   "version": "3.10.16"
  }
 },
 "nbformat": 4,
 "nbformat_minor": 2
}
